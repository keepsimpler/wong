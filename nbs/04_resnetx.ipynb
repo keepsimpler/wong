{
 "cells": [
  {
   "cell_type": "code",
   "execution_count": null,
   "metadata": {},
   "outputs": [],
   "source": [
    "# default_exp resnetx"
   ]
  },
  {
   "cell_type": "code",
   "execution_count": null,
   "metadata": {},
   "outputs": [],
   "source": [
    "#export\n",
    "from wong.imports import *\n",
    "from wong.core import *\n",
    "from wong.config import cfg"
   ]
  },
  {
   "cell_type": "code",
   "execution_count": null,
   "metadata": {},
   "outputs": [],
   "source": [
    "#export\n",
    "def get_pred(l:int, d:int=1):\n",
    "    \"get predecessor layer id.\"\n",
    "    assert l >= 1\n",
    "    if l < d or d == 1:  # if the current layer index is less than the fold depth, or if fold depth == 1\n",
    "        pred = l - 1\n",
    "    else:\n",
    "        remainder = l % (d-1)\n",
    "        if remainder == 0:\n",
    "            pred = l - 2 * (d-1)\n",
    "        else:\n",
    "            pred = l - 2 * remainder\n",
    "#         remainder1 = l % (2*(d-1))\n",
    "#         if 1 <= remainder1 <= d-1:\n",
    "#             pred = l - 2 * remainder1\n",
    "#         else:\n",
    "#             remainder2 = (remainder1 + d-1) % (2*(d-1))\n",
    "#             pred = l - 2 * remainder2\n",
    "    return pred"
   ]
  },
  {
   "cell_type": "markdown",
   "metadata": {},
   "source": [
    "Parameters:\n",
    "- l : current layer id.\n",
    "- d : fold depth.\n",
    "\n",
    "Return:\n",
    "- The previous layer id that directly link to the current layer."
   ]
  },
  {
   "cell_type": "code",
   "execution_count": null,
   "metadata": {},
   "outputs": [],
   "source": [
    "test_eq(get_pred(l=12, d=1), 11)\n",
    "\n",
    "test_eq(get_pred(l=12, d=4), 6)\n",
    "test_eq(get_pred(l=11, d=4), 7)\n",
    "test_eq(get_pred(l=10, d=4), 8)\n",
    "test_eq(get_pred(l=9, d=4), 3)\n",
    "test_eq(get_pred(l=8, d=4), 4)\n",
    "test_eq(get_pred(l=7, d=4), 5)\n",
    "test_eq(get_pred(l=6, d=4), 0)\n",
    "\n",
    "test_eq(get_pred(l=4, d=3), 0)\n",
    "test_eq(get_pred(l=5, d=3), 3)\n",
    "test_eq(get_pred(l=6, d=3), 2)"
   ]
  },
  {
   "cell_type": "code",
   "execution_count": null,
   "metadata": {},
   "outputs": [],
   "source": [
    "def layer_diff(cur:int, pred:int, num_nodes:tuple):\n",
    "    \"layer difference between the current layer and the predecessor layer.\"\n",
    "    assert cur > pred\n",
    "    num_nodes = (1,) + num_nodes\n",
    "    cumsum = 0  # start with 0\n",
    "    for i, num in enumerate(num_nodes):\n",
    "        if cumsum <= cur < cumsum + num:\n",
    "            cur_layer = i\n",
    "        if cumsum <= pred < cumsum + num:\n",
    "            pred_layer = i\n",
    "        cumsum += num\n",
    "    diff = cur_layer - pred_layer\n",
    "    return diff"
   ]
  },
  {
   "cell_type": "code",
   "execution_count": null,
   "metadata": {},
   "outputs": [
    {
     "data": {
      "text/plain": [
       "2"
      ]
     },
     "execution_count": null,
     "metadata": {},
     "output_type": "execute_result"
    }
   ],
   "source": [
    "num_nodes = (3,4,6,3)\n",
    "cur, pred = 4,0\n",
    "layer_diff(cur, pred, num_nodes)"
   ]
  },
  {
   "cell_type": "markdown",
   "metadata": {},
   "source": [
    "Parameters:\n",
    "- Start : the start layer, which accept original images, transform them, then input into the backbone network.\n",
    "- Unit : the operation at nodes.\n",
    "- fold : the fold depth\n",
    "- ni : number of input channels of the backbone network.\n",
    "- num_stages : number of stages in the backbone network.\n",
    "- num_nodes : number of nodes of every stage in the backbone network.\n",
    "- base : standard width of channels in the backbone network.\n",
    "- exp : expansion along with the increase of stages.\n",
    "- bottle_scale : bottleneck scale\n",
    "- first_downsample: dose down-sample at the start of the first stage.\n",
    "- c_in : number of input channels of the Start layer\n",
    "- c_out : number of classes in the output of the final classifier.\n",
    "- kwargs : arguments translate into `Unit`"
   ]
  },
  {
   "cell_type": "code",
   "execution_count": null,
   "metadata": {},
   "outputs": [],
   "source": [
    "#export\n",
    "class ResNetX(nn.Module):\n",
    "    \"A folded resnet.\"\n",
    "    def __init__(self, Start, Unit, fold:int, ni:int, num_nodes:tuple, base:int=64, exp:int=2, \n",
    "                 bottle_scale:int=1, first_downsample:bool=False, c_in:int=3, c_out:int=10, **kwargs):\n",
    "        super(ResNetX, self).__init__()\n",
    "        # fold depth should be less than the sum length of any two neighboring stages\n",
    "        \n",
    "        self.fold = fold\n",
    "        origin_ni = ni\n",
    "        num_stages = len(num_nodes)\n",
    "        nhs = [base * exp ** i for i in range(num_stages)] \n",
    "        nos = [nh * bottle_scale for nh in nhs]\n",
    "        strides = [1 if i==0 and not first_downsample else 2 for i in range(num_stages)]\n",
    "#         print('nhs=', nhs, 'nos=', nos, 'nus=', nus, 'strides=', strides)\n",
    "        \n",
    "        self.start = Start(c_in, ni)\n",
    "        \n",
    "        units = []\n",
    "        idmappings = []\n",
    "        cur = 1\n",
    "        for i, (nh, no, nu, stride) in enumerate(zip(nhs, nos, num_nodes, strides)):\n",
    "            for j in range(nu):\n",
    "                if j == 0: # the first node(layer) of each stage\n",
    "                    units += [Unit(ni, no, nh, stride=stride, **kwargs)]\n",
    "                else:\n",
    "                    units += [Unit(no, no, nh, stride=1, **kwargs)]\n",
    "                    \n",
    "                pred = get_pred(cur, fold) # \n",
    "                diff = layer_diff(cur, pred, num_nodes)\n",
    "                assert diff == 0 or diff == 1 or (diff == 2 and pred == 0), \\\n",
    "                       'cur={}, pred={}, diff={} is not allowed.'.format(cur, pred, diff)\n",
    "                if diff == 0:\n",
    "                    idmappings += [IdentityMapping(no, no, stride=1)]\n",
    "                elif diff == 1:\n",
    "                    idmappings += [IdentityMapping(ni, no, stride=stride)]\n",
    "                elif diff == 2:\n",
    "                    idmappings += [IdentityMapping(origin_ni, no, stride=stride)]\n",
    "                cur += 1\n",
    "            ni = no\n",
    "        self.units = nn.ModuleList(units)\n",
    "        self.idmappings = nn.ModuleList(idmappings)\n",
    "        \n",
    "        self.classifier = Classifier(nos[-1], c_out)\n",
    "        init_cnn(self)\n",
    "        \n",
    "    def forward(self, x):\n",
    "        results = {}\n",
    "        results[0] = self.start(x)\n",
    "        cur = 0\n",
    "        for i, (unit, idmapping) in enumerate(zip(self.units, self.idmappings)):\n",
    "            cur += 1\n",
    "            pred = get_pred(cur, self.fold)\n",
    "            results[cur % (2*self.fold-1)] = unit(results[(cur-1) % (2*self.fold-1)]) + idmapping(results[pred % (2*self.fold-1)])\n",
    "        x = results[cur % (2*self.fold-1)]\n",
    "\n",
    "        x = self.classifier(x)\n",
    "        return x\n",
    "        "
   ]
  },
  {
   "cell_type": "code",
   "execution_count": null,
   "metadata": {},
   "outputs": [],
   "source": [
    "model = ResNetX(Start = conv_bn, Unit = resnet_bottleneck, fold=5, ni=64, num_nodes=(3,8,36,3), base=64,\n",
    "                exp=2, bottle_scale=4, first_downsample=False, zero_bn=True)"
   ]
  },
  {
   "cell_type": "code",
   "execution_count": null,
   "metadata": {},
   "outputs": [],
   "source": [
    "x = torch.randn(2,3,64,64)"
   ]
  },
  {
   "cell_type": "code",
   "execution_count": null,
   "metadata": {},
   "outputs": [],
   "source": [
    "with torch.autograd.set_detect_anomaly(True):\n",
    "    out = model(x)\n",
    "    out.mean().backward()"
   ]
  },
  {
   "cell_type": "code",
   "execution_count": null,
   "metadata": {},
   "outputs": [
    {
     "data": {
      "text/plain": [
       "'64,894,538'"
      ]
     },
     "execution_count": null,
     "metadata": {},
     "output_type": "execute_result"
    }
   ],
   "source": [
    "\"{:,}\".format(num_params(model))"
   ]
  },
  {
   "cell_type": "code",
   "execution_count": null,
   "metadata": {},
   "outputs": [],
   "source": []
  }
 ],
 "metadata": {
  "kernelspec": {
   "display_name": "Python 3",
   "language": "python",
   "name": "python3"
  }
 },
 "nbformat": 4,
 "nbformat_minor": 2
}
