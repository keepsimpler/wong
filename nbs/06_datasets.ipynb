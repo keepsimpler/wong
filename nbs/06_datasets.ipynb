{
 "cells": [
  {
   "cell_type": "code",
   "execution_count": null,
   "metadata": {},
   "outputs": [],
   "source": [
    "# default_exp datasets"
   ]
  },
  {
   "cell_type": "markdown",
   "metadata": {},
   "source": [
    "# Datasets\n",
    "> used datasets"
   ]
  },
  {
   "cell_type": "markdown",
   "metadata": {},
   "source": [
    "We want to chose moderate size image data, which should has large resolution, but the data volume should not be too large because of the restriction of computing resources. So we chose the following datasets:\n",
    "\n",
    "- Stanford Dogs breed : https://www.kaggle.com/jessicali9530/stanford-dogs-dataset\n",
    "- Tiny ImageNet : https://tiny-imagenet.herokuapp.com/\n",
    "- Food-101 : https://www.vision.ee.ethz.ch/datasets_extra/food-101/ https://course.fast.ai/datasets.html#image-classification"
   ]
  },
  {
   "cell_type": "code",
   "execution_count": null,
   "metadata": {},
   "outputs": [],
   "source": []
  }
 ],
 "metadata": {
  "kernelspec": {
   "display_name": "Python 3",
   "language": "python",
   "name": "python3"
  }
 },
 "nbformat": 4,
 "nbformat_minor": 2
}
