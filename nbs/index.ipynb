{
 "cells": [
  {
   "cell_type": "code",
   "execution_count": null,
   "metadata": {},
   "outputs": [],
   "source": [
    "#hide\n",
    "from wong.core import *\n",
    "  "
   ]
  },
  {
   "cell_type": "markdown",
   "metadata": {},
   "source": [
    "# Combine Complex Networks with Neural networks\n",
    "\n",
    "> This project try to apply the theory of complex networks to neural networks.The neural networks are considered as instances of networked systems.\n",
    "\n",
    "> We want to:\n",
    "1. Transform all CNNs into an unified framework, where the model architectures are expressed by DAGs, and the nodes in DAGs represent convolution operations, the edges represent data flows from predecessor nodes to successor nodes.\n",
    "2. evaluated that the structural features of neural networks strongly influence the performance of them, and there exist several optimized structural features with better performance.\n",
    "3. automatically search optimized architectures."
   ]
  },
  {
   "cell_type": "markdown",
   "metadata": {},
   "source": [
    "## Install"
   ]
  },
  {
   "cell_type": "markdown",
   "metadata": {},
   "source": [
    "Wong can be installed with pip: `pip install git+https://github.com/keepsimpler/zero`. \n",
    "Or clone this repo, cd to its directory, and `pip install -e .` ."
   ]
  },
  {
   "cell_type": "markdown",
   "metadata": {},
   "source": [
    "## Tutorial of FoldNet"
   ]
  },
  {
   "cell_type": "markdown",
   "metadata": {},
   "source": [
    "1. [Cifar10](cifar10.py)\n",
    "2. [Cifar100](cifar100.py)"
   ]
  },
  {
   "cell_type": "code",
   "execution_count": null,
   "metadata": {},
   "outputs": [],
   "source": []
  }
 ],
 "metadata": {
  "kernelspec": {
   "display_name": "Python 3",
   "language": "python",
   "name": "python3"
  }
 },
 "nbformat": 4,
 "nbformat_minor": 2
}