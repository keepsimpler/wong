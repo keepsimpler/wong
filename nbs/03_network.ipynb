{
 "cells": [
  {
   "cell_type": "code",
   "execution_count": null,
   "metadata": {},
   "outputs": [],
   "source": [
    "# default_exp network"
   ]
  },
  {
   "cell_type": "code",
   "execution_count": null,
   "metadata": {},
   "outputs": [],
   "source": [
    "#export\n",
    "from wong.imports import *\n",
    "from wong.core import *\n",
    "from wong.config import cfg, assert_cfg\n",
    "from wong.graph import *"
   ]
  },
  {
   "cell_type": "code",
   "execution_count": null,
   "metadata": {},
   "outputs": [],
   "source": [
    "from fastcore.all import *"
   ]
  },
  {
   "cell_type": "markdown",
   "metadata": {},
   "source": [
    "# Network\n",
    "> CNN models generated according to abstracted DAGs."
   ]
  },
  {
   "cell_type": "code",
   "execution_count": null,
   "metadata": {},
   "outputs": [],
   "source": [
    "#export\n",
    "class NodeOP(nn.Module):\n",
    "    \"The Operation of inner nodes in the network.\"\n",
    "    def __init__(self, ni:int, no:int, nh:int, Unit:nn.Module, **kwargs):\n",
    "        super(NodeOP, self).__init__()\n",
    "        self.unit = Unit(ni, no, nh, **kwargs)\n",
    "            \n",
    "    def forward(self, *inputs):\n",
    "        sum_inputs = sum(inputs)        \n",
    "        out = self.unit(sum_inputs)\n",
    "        return out\n",
    "    "
   ]
  },
  {
   "cell_type": "markdown",
   "metadata": {},
   "source": [
    "Parameters:\n",
    "- ni : number of input channels\n",
    "- no : number of output channels\n",
    "- nh : number of hidden channels\n",
    "- Unit : the operation at the node\n",
    "- kwargs : arguments into `Unit`\n",
    "\n",
    "> Note: `sum` op may has performance problem, should we use `torch.stack(inputs, dim=0).sum(dim=0)` ?"
   ]
  },
  {
   "cell_type": "code",
   "execution_count": null,
   "metadata": {},
   "outputs": [],
   "source": [
    "ni, no, nh = 16, 32, 8\n",
    "Unit = resnet_bottleneck\n",
    "input1 = torch.rand(64, ni, 224, 224)\n",
    "input2 = torch.rand(64, ni, 224, 224)\n",
    "inputs = [input1, input2]\n",
    "m = NodeOP(ni, no, nh, Unit)\n",
    "out = m(*inputs)\n",
    "test_eq(out.shape, torch.Size([64, no, 224, 224]))"
   ]
  },
  {
   "cell_type": "code",
   "execution_count": null,
   "metadata": {},
   "outputs": [
    {
     "data": {
      "text/plain": [
       "NodeOP(\n",
       "  (unit): Sequential(\n",
       "    (0): ReLU()\n",
       "    (1): Conv2d(16, 8, kernel_size=(1, 1), stride=(1, 1), bias=False)\n",
       "    (2): BatchNorm2d(8, eps=1e-05, momentum=0.1, affine=True, track_running_stats=True)\n",
       "    (3): ReLU()\n",
       "    (4): Conv2d(8, 8, kernel_size=(3, 3), stride=(1, 1), padding=(1, 1), bias=False)\n",
       "    (5): BatchNorm2d(8, eps=1e-05, momentum=0.1, affine=True, track_running_stats=True)\n",
       "    (6): ReLU()\n",
       "    (7): Conv2d(8, 32, kernel_size=(1, 1), stride=(1, 1), bias=False)\n",
       "    (8): BatchNorm2d(32, eps=1e-05, momentum=0.1, affine=True, track_running_stats=True)\n",
       "  )\n",
       ")"
      ]
     },
     "execution_count": null,
     "metadata": {},
     "output_type": "execute_result"
    }
   ],
   "source": [
    "m"
   ]
  },
  {
   "cell_type": "code",
   "execution_count": null,
   "metadata": {},
   "outputs": [],
   "source": []
  },
  {
   "cell_type": "code",
   "execution_count": null,
   "metadata": {},
   "outputs": [
    {
     "data": {
      "text/plain": [
       "CfgNode({'GRAPH': CfgNode({'NUM_STAGES': 4, 'NUM_NODES': (3, 4, 6, 3), 'NUM_CHANNELS': (64, 128, 256, 512)})})"
      ]
     },
     "execution_count": null,
     "metadata": {},
     "output_type": "execute_result"
    }
   ],
   "source": [
    "cfg_file = 'configs/imagenet/resnet/resnet50.yaml'\n",
    "cfg.merge_from_file(cfg_file)\n",
    "assert_cfg(cfg)\n",
    "cfg.freeze()\n",
    "cfg"
   ]
  },
  {
   "cell_type": "code",
   "execution_count": null,
   "metadata": {},
   "outputs": [],
   "source": [
    "G = resnet_dag(cfg.GRAPH.NUM_NODES)"
   ]
  },
  {
   "cell_type": "code",
   "execution_count": null,
   "metadata": {},
   "outputs": [
    {
     "data": {
      "text/plain": [
       "(NodeView((0, 1, 2, 3, 4, 5, 6, 7, 8, 9, 10, 11, 12, 13, 14, 15, 16, 17, 18, 19, 20)),\n",
       " OutEdgeView([(0, 1), (0, 2), (0, 3), (0, 4), (0, 5), (1, 2), (1, 3), (1, 4), (1, 5), (2, 3), (2, 4), (2, 5), (3, 4), (3, 5), (4, 6), (4, 7), (4, 8), (4, 9), (4, 10), (5, 6), (5, 7), (5, 8), (5, 9), (5, 10), (6, 7), (6, 8), (6, 9), (6, 10), (7, 8), (7, 9), (7, 10), (8, 9), (8, 10), (9, 11), (9, 12), (9, 13), (9, 14), (9, 15), (9, 16), (9, 17), (10, 11), (10, 12), (10, 13), (10, 14), (10, 15), (10, 16), (10, 17), (11, 12), (11, 13), (11, 14), (11, 15), (11, 16), (11, 17), (12, 13), (12, 14), (12, 15), (12, 16), (12, 17), (13, 14), (13, 15), (13, 16), (13, 17), (14, 15), (14, 16), (14, 17), (15, 16), (15, 17), (16, 18), (16, 19), (16, 20), (17, 18), (17, 19), (17, 20), (18, 19), (18, 20), (19, 20)]))"
      ]
     },
     "execution_count": null,
     "metadata": {},
     "output_type": "execute_result"
    }
   ],
   "source": [
    "G.nodes, G.edges"
   ]
  },
  {
   "cell_type": "code",
   "execution_count": null,
   "metadata": {},
   "outputs": [],
   "source": []
  },
  {
   "cell_type": "code",
   "execution_count": null,
   "metadata": {},
   "outputs": [],
   "source": [
    "#export\n",
    "class NetworkOP(nn.Module):\n",
    "    \"The operations along a DAG network.\"\n",
    "    def __init__(self, G:nx.DiGraph, ni:int, no:int, Unit:nn.Module, **kwargs):\n",
    "        super(NetworkOP, self).__init__()\n",
    "        self.G = G\n",
    "        self.n = G.graph['n'] # number of nodes\n",
    "        self.nodeops = nn.ModuleList() \n",
    "        for id in G.nodes(): # for each node\n",
    "            if id == 0:  # if is the unique input node, do nothing\n",
    "                continue\n",
    "            elif id == self.n:  # if is the unique output node\n",
    "                # then, concat its predecessors\n",
    "                n_preds = len([*G.predecessors(id)])\n",
    "                self.nodeops += [IdentityMapping(n_preds * ni, no)]\n",
    "            else:  # if is the inner node\n",
    "                self.nodeops += [NodeOP(ni, ni, ni, Unit, **kwargs)]\n",
    "            \n",
    "    def forward(self, x):\n",
    "        results = {}\n",
    "        results[-1] = x  # input data is the result of the unique input node\n",
    "        for id in self.G.nodes(): # for each node\n",
    "            if id == -1:  # if is the input node, do nothing\n",
    "                continue\n",
    "            # get the results of all predecessors\n",
    "            inputs = [results[pred]  for pred in self.G.predecessors(id)]\n",
    "            if id == self.n: # if is the output node\n",
    "                cat_inputs = torch.cat(inputs, dim=1) # concat results of all predecessors\n",
    "                if self.efficient:\n",
    "                    return cp.checkpoint(self.nodeops[id], cat_inputs) \n",
    "                else:\n",
    "                    return self.nodeops[id](cat_inputs)\n",
    "            else: # if is inner nodes\n",
    "                if self.efficient:\n",
    "                    results[id] = cp.checkpoint(self.nodeops[id], *inputs) \n",
    "                else:\n",
    "                    results[id] = self.nodeops[id](*inputs)\n",
    "\n",
    "            # 删除前驱结点result中，不再需要的result\n",
    "            for pred in self.G.predecessors(id):  # 获得节点的所有前驱结点\n",
    "                succs = list(self.G.successors(pred))  # 获得每个前驱结点的所有后继节点\n",
    "                # 如果排名最后的后继节点是当前节点，说明该前驱结点的result不再被后续的节点需要，可以删除\n",
    "                if max(succs) == id:  \n",
    "                    del results[pred]\n",
    "        \n"
   ]
  },
  {
   "cell_type": "markdown",
   "metadata": {},
   "source": [
    "\n",
    "Parameters:\n",
    "\n",
    "- G   :  the `NetworkX` 'DiGraph' object, represent a DAG.\n",
    "- ni  :  number of input channels of the network\n",
    "- no  :  number of output channel of the network\n",
    "- Unit : operation at inner nodes\n",
    "- kwargs : arguments into `Unit`\n"
   ]
  },
  {
   "cell_type": "code",
   "execution_count": null,
   "metadata": {},
   "outputs": [],
   "source": []
  }
 ],
 "metadata": {
  "kernelspec": {
   "display_name": "Python 3",
   "language": "python",
   "name": "python3"
  }
 },
 "nbformat": 4,
 "nbformat_minor": 2
}
