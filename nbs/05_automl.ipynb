{
 "cells": [
  {
   "cell_type": "markdown",
   "metadata": {},
   "source": [
    "## Random numbers from a simplex\n",
    "\n",
    "https://cs.stackexchange.com/questions/3227/uniform-sampling-from-a-simplex\n",
    "\n",
    "https://math.stackexchange.com/questions/502583/uniform-sampling-of-points-on-a-simplex\n",
    "\n",
    "- BoTorch and Ax\n",
    "\n",
    "https://botorch.org/tutorials/custom_botorch_model_in_ax\n",
    "\n",
    "https://botorch.org/docs/acquisition\n",
    "\n",
    "- Hyperparameter Optimization\n",
    "\n",
    "https://link.springer.com/chapter/10.1007/978-3-030-05318-5_1\n",
    "\n",
    "- Refs:\n",
    "\n",
    "https://stackoverflow.com/questions/44260217/hyperparameter-optimization-for-pytorch-model\n",
    "\n",
    "- Number of ways to write n as a sum of k nonnegative integers\n",
    "\n",
    "https://math.stackexchange.com/questions/217597/number-of-ways-to-write-n-as-a-sum-of-k-nonnegative-integers\n",
    "\n",
    "https://www.mathworks.com/matlabcentral/fileexchange/9700-random-vectors-with-fixed-sum\n",
    "\n",
    "- Ray and Tune\n",
    "\n",
    "https://github.com/ray-project/ray\n",
    "\n",
    "- AutoGluon\n",
    "\n",
    "https://autogluon.mxnet.io/tutorials/course/core.html"
   ]
  },
  {
   "cell_type": "code",
   "execution_count": null,
   "metadata": {},
   "outputs": [
    {
     "name": "stdout",
     "output_type": "stream",
     "text": [
      "[0, 71, 86, 125, 128]\n",
      "[71, 15, 39, 3]\n"
     ]
    },
    {
     "data": {
      "text/plain": [
       "128"
      ]
     },
     "execution_count": null,
     "metadata": {},
     "output_type": "execute_result"
    }
   ],
   "source": [
    "import random\n",
    "\n",
    "num_all_nodes = 128\n",
    "num_stages = 3\n",
    "num_nodes = [0] + sorted([random.randint(1, num_all_nodes-1) for _ in range(num_stages)]) + [num_all_nodes]\n",
    "print(num_nodes)\n",
    "num_nodes = [num_nodes[i] - num_nodes[i-1]  for i in range(1, len(num_nodes))]\n",
    "print(num_nodes)\n",
    "sum(num_nodes)\n",
    "\n"
   ]
  },
  {
   "cell_type": "code",
   "execution_count": null,
   "metadata": {},
   "outputs": [],
   "source": []
  }
 ],
 "metadata": {
  "kernelspec": {
   "display_name": "Python 3",
   "language": "python",
   "name": "python3"
  }
 },
 "nbformat": 4,
 "nbformat_minor": 2
}
