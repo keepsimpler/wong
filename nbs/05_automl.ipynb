{
 "cells": [
  {
   "cell_type": "markdown",
   "metadata": {},
   "source": [
    "## Random numbers from a simplex\n",
    "\n",
    "https://cs.stackexchange.com/questions/3227/uniform-sampling-from-a-simplex\n",
    "\n",
    "https://math.stackexchange.com/questions/502583/uniform-sampling-of-points-on-a-simplex\n",
    "\n",
    "- BoTorch and Ax\n",
    "\n",
    "https://botorch.org/tutorials/custom_botorch_model_in_ax\n",
    "\n",
    "https://botorch.org/docs/acquisition\n",
    "\n",
    "- Hyperparameter Optimization\n",
    "\n",
    "https://link.springer.com/chapter/10.1007/978-3-030-05318-5_1\n",
    "\n",
    "- Refs:\n",
    "\n",
    "https://stackoverflow.com/questions/44260217/hyperparameter-optimization-for-pytorch-model\n",
    "\n",
    "- Number of ways to write n as a sum of k nonnegative integers\n",
    "\n",
    "https://math.stackexchange.com/questions/217597/number-of-ways-to-write-n-as-a-sum-of-k-nonnegative-integers\n",
    "\n",
    "https://www.mathworks.com/matlabcentral/fileexchange/9700-random-vectors-with-fixed-sum\n",
    "\n",
    "- Ray and Tune\n",
    "\n",
    "https://github.com/ray-project/ray\n",
    "\n",
    "- AutoGluon\n",
    "\n",
    "https://autogluon.mxnet.io/tutorials/course/core.html"
   ]
  },
  {
   "cell_type": "code",
   "execution_count": null,
   "metadata": {},
   "outputs": [],
   "source": [
    "import random"
   ]
  },
  {
   "cell_type": "code",
   "execution_count": null,
   "metadata": {},
   "outputs": [],
   "source": [
    "X = [0] * (N+2)\n",
    "Z = [0] *(N+2)\n",
    "N = 5"
   ]
  },
  {
   "cell_type": "code",
   "execution_count": null,
   "metadata": {},
   "outputs": [],
   "source": [
    "X[0] = 0\n",
    "for i in range(1,N+1):\n",
    "    X[i] = random.uniform(0,1)\n",
    "X[N+1] = 1\n",
    "X = sorted(X)\n",
    "for i in range(1, N+2):\n",
    "    Z[i] = X[i] - X[i-1]\n"
   ]
  },
  {
   "cell_type": "code",
   "execution_count": null,
   "metadata": {},
   "outputs": [
    {
     "data": {
      "text/plain": [
       "[0,\n",
       " 0.015581661200404384,\n",
       " 0.2227810569798473,\n",
       " 0.17775847556896152,\n",
       " 0.4548749861717629,\n",
       " 0.08993874335290952,\n",
       " 0.03906507672611437]"
      ]
     },
     "execution_count": null,
     "metadata": {},
     "output_type": "execute_result"
    }
   ],
   "source": [
    "Z"
   ]
  },
  {
   "cell_type": "code",
   "execution_count": null,
   "metadata": {},
   "outputs": [
    {
     "data": {
      "text/plain": [
       "[0,\n",
       " 0.015581661200404384,\n",
       " 0.23836271818025168,\n",
       " 0.4161211937492132,\n",
       " 0.8709961799209761,\n",
       " 0.9609349232738856,\n",
       " 1]"
      ]
     },
     "execution_count": null,
     "metadata": {},
     "output_type": "execute_result"
    }
   ],
   "source": [
    "X"
   ]
  },
  {
   "cell_type": "code",
   "execution_count": null,
   "metadata": {},
   "outputs": [
    {
     "data": {
      "text/plain": [
       "(1.0, 3.501996676324731)"
      ]
     },
     "execution_count": null,
     "metadata": {},
     "output_type": "execute_result"
    }
   ],
   "source": [
    "sum(Z), sum(X)"
   ]
  },
  {
   "cell_type": "code",
   "execution_count": null,
   "metadata": {},
   "outputs": [],
   "source": []
  }
 ],
 "metadata": {
  "kernelspec": {
   "display_name": "Python 3",
   "language": "python",
   "name": "python3"
  }
 },
 "nbformat": 4,
 "nbformat_minor": 2
}
