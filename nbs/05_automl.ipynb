{
 "cells": [
  {
   "cell_type": "code",
   "execution_count": null,
   "metadata": {},
   "outputs": [],
   "source": [
    "# default_exp automl"
   ]
  },
  {
   "cell_type": "markdown",
   "metadata": {},
   "source": [
    "# AutoML\n",
    "> functions for automated ML"
   ]
  },
  {
   "cell_type": "code",
   "execution_count": null,
   "metadata": {},
   "outputs": [],
   "source": [
    "#hide\n",
    "# ## Random numbers from a simplex\n",
    "\n",
    "# https://cs.stackexchange.com/questions/3227/uniform-sampling-from-a-simplex\n",
    "\n",
    "# https://math.stackexchange.com/questions/502583/uniform-sampling-of-points-on-a-simplex\n",
    "\n",
    "# - BoTorch and Ax\n",
    "\n",
    "# https://botorch.org/tutorials/custom_botorch_model_in_ax\n",
    "\n",
    "# https://botorch.org/docs/acquisition\n",
    "\n",
    "# - Hyperparameter Optimization\n",
    "\n",
    "# https://link.springer.com/chapter/10.1007/978-3-030-05318-5_1\n",
    "\n",
    "# - Refs:\n",
    "\n",
    "# https://stackoverflow.com/questions/44260217/hyperparameter-optimization-for-pytorch-model\n",
    "\n",
    "# - Number of ways to write n as a sum of k nonnegative integers\n",
    "\n",
    "# https://math.stackexchange.com/questions/217597/number-of-ways-to-write-n-as-a-sum-of-k-nonnegative-integers\n",
    "\n",
    "# https://www.mathworks.com/matlabcentral/fileexchange/9700-random-vectors-with-fixed-sum\n",
    "\n",
    "# - Ray and Tune\n",
    "\n",
    "# https://github.com/ray-project/ray\n",
    "\n",
    "# - AutoGluon\n",
    "\n",
    "# https://autogluon.mxnet.io/tutorials/course/core.html"
   ]
  },
  {
   "cell_type": "code",
   "execution_count": null,
   "metadata": {},
   "outputs": [],
   "source": [
    "#export\n",
    "from wong.imports import *"
   ]
  },
  {
   "cell_type": "code",
   "execution_count": null,
   "metadata": {},
   "outputs": [],
   "source": [
    "#export\n",
    "def get_num_nodes(num_all_nodes:int=64, num_stages:int=3, fold:int=4):\n",
    "    \"generate num of nodes of all stages randomly, constrint to a condition based on fold\"\n",
    "    success = False\n",
    "    while not success:\n",
    "        num_nodes = [0] + sorted([random.randint(1, num_all_nodes-1) for _ in range(num_stages)]) + [num_all_nodes]\n",
    "        num_nodes = [num_nodes[i] - num_nodes[i-1]  for i in range(1, len(num_nodes))]\n",
    "        larger_than_fold = [e >= 2*(fold-1) for e in num_nodes]\n",
    "        if all(larger_than_fold): success = True\n",
    "    return num_nodes\n"
   ]
  },
  {
   "cell_type": "code",
   "execution_count": null,
   "metadata": {},
   "outputs": [
    {
     "data": {
      "text/plain": [
       "[12, 7, 34, 11]"
      ]
     },
     "execution_count": null,
     "metadata": {},
     "output_type": "execute_result"
    }
   ],
   "source": [
    "num_nodes = get_num_nodes(num_all_nodes=64, num_stages=3, fold=4)\n",
    "num_nodes"
   ]
  },
  {
   "cell_type": "code",
   "execution_count": null,
   "metadata": {},
   "outputs": [],
   "source": []
  }
 ],
 "metadata": {
  "kernelspec": {
   "display_name": "Python 3",
   "language": "python",
   "name": "python3"
  }
 },
 "nbformat": 4,
 "nbformat_minor": 2
}
