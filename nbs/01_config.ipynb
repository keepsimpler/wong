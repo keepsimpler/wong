{
 "cells": [
  {
   "cell_type": "code",
   "execution_count": null,
   "metadata": {},
   "outputs": [],
   "source": [
    "#default_exp config"
   ]
  },
  {
   "cell_type": "code",
   "execution_count": null,
   "metadata": {},
   "outputs": [],
   "source": [
    "#export\n",
    "from wong.imports import *"
   ]
  },
  {
   "cell_type": "markdown",
   "metadata": {},
   "source": [
    "# Configuration\n",
    "> Using `YACS` to configure our library"
   ]
  },
  {
   "cell_type": "code",
   "execution_count": null,
   "metadata": {},
   "outputs": [],
   "source": [
    "#export\n",
    "from yacs.config import CfgNode as CN"
   ]
  },
  {
   "cell_type": "markdown",
   "metadata": {},
   "source": [
    "First, define a global config node:"
   ]
  },
  {
   "cell_type": "code",
   "execution_count": null,
   "metadata": {},
   "outputs": [],
   "source": [
    "#export\n",
    "_C = CN()\n",
    "_C.URL = ''  # url for pretrained model storage\n"
   ]
  },
  {
   "cell_type": "markdown",
   "metadata": {},
   "source": [
    "Next, define the options of network structures. \n",
    "A CNN neural network architecture is represented as a Directed Acyclic Graph (DAG).\n",
    "The DAG graph consists of a sequence of stages,\n",
    "- `NUM_STAGES` : number of stages\n",
    "- `NUM_NODES` : number of nodes per stage\n",
    "- `NUM_CHANNELS` : number of channels per stage\n",
    "\n",
    "`NUM_NODES` for different variants of ResNet:\n",
    "- (3, 4, 6, 3) for resnet50\n",
    "- (3, 4, 23, 3) for resnet101\n",
    "- (3, 8, 36, 3) for resnet152"
   ]
  },
  {
   "cell_type": "code",
   "execution_count": null,
   "metadata": {},
   "outputs": [],
   "source": [
    "#export\n",
    "_C.GRAPH = CN()"
   ]
  },
  {
   "cell_type": "code",
   "execution_count": null,
   "metadata": {},
   "outputs": [],
   "source": [
    "#export\n",
    "_C.GRAPH.NUM_STAGES = 4\n",
    "_C.GRAPH.NUM_NODES = (3, 8, 36, 3)\n",
    "_C.GRAPH.NUM_CHANNELS = (64, 128, 256, 512)\n",
    "_C.GRAPH.STEM = ''\n",
    "_C.GRAPH.UNIT = ''\n",
    "_C.GRAPH.FOLD = 1\n",
    "_C.GRAPH.NI = 64\n",
    "_C.GRAPH.START_ID = 0\n",
    "_C.GRAPH.BASE = 64\n",
    "_C.GRAPH.EXP = 2\n",
    "_C.GRAPH.BOTTLE_SCALE = 4\n",
    "_C.GRAPH.FIRST_DOWNSAMPLE = False\n",
    "_C.GRAPH.DEEP_STEM = False"
   ]
  },
  {
   "cell_type": "code",
   "execution_count": null,
   "metadata": {},
   "outputs": [],
   "source": [
    "#export\n",
    "def assert_cfg(cfg):\n",
    "    \"Assert config options\"\n",
    "    assert cfg.GRAPH.NUM_STAGES == len(cfg.GRAPH.NUM_NODES), 'num_stages should equal to length of num_nodes'"
   ]
  },
  {
   "cell_type": "code",
   "execution_count": null,
   "metadata": {},
   "outputs": [],
   "source": [
    "# Example usage:\n",
    "#   from wong.config import cfg"
   ]
  },
  {
   "cell_type": "code",
   "execution_count": null,
   "metadata": {},
   "outputs": [],
   "source": [
    "#export\n",
    "cfg = _C\n"
   ]
  },
  {
   "cell_type": "code",
   "execution_count": null,
   "metadata": {},
   "outputs": [],
   "source": [
    "cfg_file = 'configs/imagenet/resnet/resnet50.yaml'"
   ]
  },
  {
   "cell_type": "code",
   "execution_count": null,
   "metadata": {},
   "outputs": [],
   "source": [
    "cfg.merge_from_file(cfg_file)"
   ]
  },
  {
   "cell_type": "code",
   "execution_count": null,
   "metadata": {},
   "outputs": [
    {
     "data": {
      "text/plain": [
       "CfgNode({'GRAPH': CfgNode({'NUM_STAGES': 4, 'NUM_NODES': (3, 4, 6, 3), 'NUM_CHANNELS': (64, 128, 256, 512)})})"
      ]
     },
     "execution_count": null,
     "metadata": {},
     "output_type": "execute_result"
    }
   ],
   "source": [
    "cfg"
   ]
  },
  {
   "cell_type": "code",
   "execution_count": null,
   "metadata": {},
   "outputs": [],
   "source": [
    "assert_cfg(cfg)"
   ]
  },
  {
   "cell_type": "code",
   "execution_count": null,
   "metadata": {},
   "outputs": [],
   "source": []
  },
  {
   "cell_type": "code",
   "execution_count": null,
   "metadata": {},
   "outputs": [],
   "source": []
  },
  {
   "cell_type": "code",
   "execution_count": null,
   "metadata": {},
   "outputs": [],
   "source": []
  },
  {
   "cell_type": "markdown",
   "metadata": {},
   "source": [
    "Next, define the options of graph nodes:\n",
    "- LOCATION : location of nodes in the graph:\n",
    "  - 'input' : the unique input node\n",
    "  - 'output' : the unique output node\n",
    "  - 'inner' : the inner-stage nodes\n",
    "  - 'across' : the across-stage nodes\n",
    "- OP_TYPE : operation type of nodes:\n",
    "  - 'resnet_bottleneck' : \n",
    "  - 'xception' : \n",
    "  - 'identity_mapping':"
   ]
  },
  {
   "cell_type": "code",
   "execution_count": null,
   "metadata": {},
   "outputs": [],
   "source": []
  }
 ],
 "metadata": {
  "kernelspec": {
   "display_name": "Python 3",
   "language": "python",
   "name": "python3"
  }
 },
 "nbformat": 4,
 "nbformat_minor": 2
}
